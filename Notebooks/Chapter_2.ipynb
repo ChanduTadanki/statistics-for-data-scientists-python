{
 "cells": [
  {
   "cell_type": "markdown",
   "metadata": {},
   "source": [
    "# Data and Sampling Distributions"
   ]
  },
  {
   "cell_type": "code",
   "execution_count": 4,
   "metadata": {
    "collapsed": true
   },
   "outputs": [],
   "source": [
    "import pandas as pd\n",
    "import numpy as np\n",
    "import scipy.stats as stats\n",
    "import seaborn as sns\n",
    "import matplotlib.pyplot as plt\n",
    "%matplotlib inline"
   ]
  },
  {
   "cell_type": "code",
   "execution_count": 2,
   "metadata": {
    "collapsed": true
   },
   "outputs": [],
   "source": [
    "loans_income = pd.read_csv('../data/loans_income.csv')\n",
    "sp500_px = pd.read_csv('../data/sp500_px.csv')"
   ]
  },
  {
   "cell_type": "markdown",
   "metadata": {},
   "source": [
    "## Chapter Notes\n",
    "- Sampling is required to reduce bias in a dataset. Predictive Models need to be developed and piloted with samples.\n",
    "\n",
    "### Random Sampling and Bias\n",
    "\n",
    "- Sample is a subset of data from a larger data-set. The larger data-set is called as the population.\n",
    "\n",
    "\n",
    "- What is Stratified Sampling?\n",
    "    -  Divinding the population into a strata and randomly sampling from each strata\n",
    "    \n",
    "    \n",
    "- What is a strata?\n",
    "    -  Stratification is the process of dividing members of the population into homogeneous subgroups before sampling.   \n",
    "    -  The strata should be mutually exclusive: every element in the population must be assigned to only one stratum. \n",
    "    -  The strata should also be collectively exhaustive: no population element can be excluded.\n",
    "    \n",
    "    \n",
    "- What is sample bias?\n",
    "    -  A sample that misrepresents the population\n",
    "    \n",
    "    \n",
    "- Statistical bias refers to the measurement or sampling errors that are systematic and produced by the measurement or sampling process.\n",
    "\n",
    "\n",
    "- Why is Random Sampling important?\n",
    "    -  ___Because Data Quality matters over Data Quantity___.\n",
    "    -  Lets take the example of Literary Digest poll of 1936. During the great depression, many people in USA did not have money for the 'Literary Digest'.\n",
    "    -  So when the Literary Digest conducted a poll predicting who will win (Landon (Republican) or Roosevelt (Democrat)), it predicted that Landon will win by a ___landslide___. \n",
    "    -  However it turned out that Roosevelt was the one that won the election.\n",
    "    -  What happened here? \n",
    "        -  It turns out that Majority of the people who could afford the Literary Digest were of a generally ___higher___ socio-economic background than the larger population at hand. They owned telephones, automobiles and hence they occured on the marketers list in the first place. \n",
    "        -  This is called as a ___Sample Bias___ ,i.e, the sample was different in some meaningful \"non-random\" way from the larger population it was meant to represent.\n",
    "        -  The term __non-random__ is important since hardly any sample, including random samples, will be exactly representative of the population.\n",
    "        -  Sample Bias occurs when the difference is meaningful, and can be expected to continue for other samples drawn in the same way as the first.\n",
    "        \n",
    "\n",
    "- What is a Bias?\n",
    "    - It refers to the measurement or sampling errors that are systematic and produced by the measurement or sampling process.\n",
    "    \n",
    "    \n",
    "- To avoid bias, you need to understand data.\n",
    "\n",
    "\n",
    "- For example when you are doing a customer survey for a Shopping mall, you need to define who a customer is.\n",
    "    -  Do we select all customers whose purchase amount > 0?\n",
    "    -  Do we include all past customers? \n",
    "    -  Do we include all refunds?\n",
    "    -  Should we do internal test purchases?\n",
    "\n",
    "\n",
    "- Next you need to define a sampling procedure. It maybe selecting 100 customers at random.\n",
    "\n",
    "\n",
    "- In stratified sampling, the population is divided into strata and random sample is taken from each strata.\n",
    "\n",
    "\n",
    "- What is the vast search effect?\n",
    "    - Bias or non-reproducibility resulting from repeated data modeling, or modeling data with large numbers of predictable.\n",
    "    \n",
    "\n",
    "- What is selection bias?\n",
    "    -  Refers to practice of selectively choosing data in a way that leads to a conclusion that is misleading or ephemeral.\n",
    "    \n",
    "\n",
    "- Regression to the Mean (Means to 'go-back'): Refers to the phenomenon of involving successive measurements on a given variable: extreme observations followed by more central ones. Example will be that children of tall men dont tend to be as tall.\n",
    "\n",
    "\n",
    "### Sampling Distribution of a Statistic:\n",
    "\n",
    "\n",
    "- The distribution of a sample statistic such as the mean is likely to be more regular and bell-shaped than the distribution itself.\n",
    "\n",
    "\n",
    "\n"
   ]
  },
  {
   "cell_type": "code",
   "execution_count": 149,
   "metadata": {},
   "outputs": [
    {
     "data": {
      "image/png": "[encoded data removed]",
      "text/plain": [
       "<matplotlib.figure.Figure at 0x12783a2b0>"
      ]
     },
     "metadata": {},
     "output_type": "display_data"
    }
   ],
   "source": [
    "#Calculating a rolling mean:\n",
    "\n",
    "#Take a 1000 Samples\n",
    "samples = loans_income.sample(n=1000)\n",
    "\n",
    "#mean of 5 numbers\n",
    "sample_mean_5 = samples.rolling(5).mean().x\n",
    "sample_mean_5 = sample_mean_5.dropna()\n",
    "\n",
    "#mean of 20 numbers\n",
    "sample_mean_20 = samples.rolling(20).mean().x\n",
    "sample_mean_20 = sample_mean_20.dropna()\n",
    "\n",
    "# mean of 30 numbers\n",
    "sample_mean_30 = samples.rolling(30).mean().x\n",
    "sample_mean_30 = sample_mean_30.dropna()\n",
    "\n",
    "fig = plt.figure(figsize=(10,10))\n",
    "#The full distribution of the plot:\n",
    "ax = fig.add_subplot(2,2,1)\n",
    "ax.hist(loans_income.x,bins=25)\n",
    "plt.title('Full Plot of the whole DATAFRAME')\n",
    "\n",
    "#distribution of 1000 samples:\n",
    "\n",
    "ax = fig.add_subplot(2,2,2)\n",
    "ax.hist(samples.x,bins=40)\n",
    "plt.title('Full Plot of the 1000 samples')\n",
    "\n",
    "#distribution of means of 5 numbers from 1000 samples:\n",
    "ax = fig.add_subplot(2,2,3)\n",
    "ax.hist(sample_mean_5,bins=40)\n",
    "plt.title('Plot of Mean 5')\n",
    "\n",
    "#distribution of means of 20 numbers from 1000 samples:\n",
    "ax = fig.add_subplot(2,2,4)\n",
    "ax.hist(sample_mean_20,bins=40,label='Mean of 20')\n",
    "ax.hist(sample_mean_30,bins=40,label='Mean of 30')\n",
    "plt.title('Plot of Mean 20 and 30')\n",
    "ax.legend()\n",
    "plt.show()\n",
    "\n",
    "plt.show()"
   ]
  },
  {
   "cell_type": "markdown",
   "metadata": {},
   "source": [
    "# Central Limit Theorem\n",
    "- Means drawn from multiple samples will resemble bell-shaped Normal curve even if the source population is not normally distributed.\n",
    "- How to measure the variability of a sampling distribution?\n",
    "    -  StandardError(SE) = s/sqrt(n) \n",
    "        - s = standard deviation\n",
    "        - n = number of samples\n",
    "    - AS the sameple size increases, the standard Error decreases.\n",
    "    "
   ]
  },
  {
   "cell_type": "code",
   "execution_count": 176,
   "metadata": {},
   "outputs": [],
   "source": [
    "bootstrap = np.random.choice(loans_income.x,size=1000,replace=False)"
   ]
  },
  {
   "cell_type": "code",
   "execution_count": 181,
   "metadata": {},
   "outputs": [
    {
     "name": "stdout",
     "output_type": "stream",
     "text": [
      "Total Population STD :  32872.0353699\n",
      "Total Population Mean :  68760.51844\n"
     ]
    }
   ],
   "source": [
    "#Calculating a rolling mean:\n",
    "print('Total Population STD : ',loans_income.x.std())\n",
    "print('Total Population Mean : ',loans_income.x.mean())"
   ]
  },
  {
   "cell_type": "code",
   "execution_count": 183,
   "metadata": {},
   "outputs": [
    {
     "name": "stdout",
     "output_type": "stream",
     "text": [
      "Bootstrap STD :  32760.4153979\n",
      "Bootstrap Mean :  69120.742\n"
     ]
    }
   ],
   "source": [
    "#Calculating a rolling mean:\n",
    "print('Bootstrap STD : ',np.std(bootstrap))\n",
    "print('Bootstrap Mean : ',np.mean(bootstrap))"
   ]
  },
  {
   "cell_type": "markdown",
   "metadata": {},
   "source": [
    "###  Bootstrapping is used to improve the efficiency of Decision Trees. \n",
    "### DT's which utilize Bootstrapping are also called as Random Forests.\n",
    "\n",
    "#### Bagging is the process of running multiple classification and regression trees, and then averaging their predictions. It generally performs better than a single tree."
   ]
  },
  {
   "cell_type": "markdown",
   "metadata": {},
   "source": [
    "## Confidence Interval\n",
    "- Confidence level:\n",
    "    - The percentage of confidence interval, contructed in the same way from the same population, expected to contain the statistic of interest."
   ]
  },
  {
   "cell_type": "code",
   "execution_count": null,
   "metadata": {
    "collapsed": true
   },
   "outputs": [],
   "source": []
  }
 ],
 "metadata": {
  "kernelspec": {
   "display_name": "Python 3",
   "language": "python",
   "name": "python3"
  },
  "language_info": {
   "codemirror_mode": {
    "name": "ipython",
    "version": 3
   },
   "file_extension": ".py",
   "mimetype": "text/x-python",
   "name": "python",
   "nbconvert_exporter": "python",
   "pygments_lexer": "ipython3",
   "version": "3.6.1"
  }
 },
 "nbformat": 4,
 "nbformat_minor": 2
}
