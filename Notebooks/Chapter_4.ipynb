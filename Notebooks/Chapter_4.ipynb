{
 "cells": [
  {
   "cell_type": "markdown",
   "metadata": {},
   "source": [
    "# Regression and Prediction\n",
    "\n",
    "## Contents of this Chapter:\n",
    "\n",
    "### Main Sub-titles\n",
    "\n",
    "1. Simple Linear Regression\n",
    "2. Multiple Linear Regression\n",
    "3. Prediction Using Regression\n",
    "4. Factor Variables in Regression\n",
    "5. Interpreting the Regression Function\n",
    "6. Testing the Assumptions: Regression Diagnostics\n",
    "7. Polynomial and Spline Regression"
   ]
  },
  {
   "cell_type": "code",
   "execution_count": null,
   "metadata": {
    "collapsed": true
   },
   "outputs": [],
   "source": []
  }
 ],
 "metadata": {
  "kernelspec": {
   "display_name": "Python (datascience)",
   "language": "python",
   "name": "datascience"
  },
  "language_info": {
   "codemirror_mode": {
    "name": "ipython",
    "version": 3
   },
   "file_extension": ".py",
   "mimetype": "text/x-python",
   "name": "python",
   "nbconvert_exporter": "python",
   "pygments_lexer": "ipython3",
   "version": "3.6.6"
  }
 },
 "nbformat": 4,
 "nbformat_minor": 2
}
