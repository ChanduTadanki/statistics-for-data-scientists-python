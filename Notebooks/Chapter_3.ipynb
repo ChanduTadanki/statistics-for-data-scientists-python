{
 "cells": [
  {
   "cell_type": "code",
   "execution_count": 1,
   "metadata": {
    "collapsed": true
   },
   "outputs": [],
   "source": [
    "import pandas as pd\n",
    "import numpy as np\n",
    "import matplotlib.pyplot as plt\n",
    "%matplotlib inline"
   ]
  },
  {
   "cell_type": "markdown",
   "metadata": {},
   "source": [
    "# Statistical Experiments and Significance Testing\n",
    "***\n",
    "- Topics:\n",
    "    - A/B Testing\n",
    "    - Hypothesis Test\n",
    "    - Resampling\n",
    "    - Statistical Significance and P-Values\n",
    "    - t-Tests\n",
    "    - Multiple Testing\n",
    "    - Degrees of Freedom\n",
    "    - ANOVA\n",
    "    - Chi-Square Test\n",
    "***\n",
    "- Why are these concepts important?\n",
    "    - These concepts are deployed in inferential statistics and they are heavily deployed in companies which need to test all the features that they deploy.\n",
    "    - These concepts mainly come into picture when we are considering user interface and product marketing.\n",
    "***\n",
    "##### Amazing Link https://pythonfordatascience.org/chi-square-python/\n",
    "- Formulate Hypothese - Design Experiment - Collect Data - Inference Conclusions\n",
    "***\n",
    "## A/B Testing:\n",
    "- Is an experiment with two groups to establish which of the two products(for eg) are superior. One of the existing products is considered to be the control and the new additional feature would be the one we will be doing A/B Testing for.\n",
    "- Treatment\n",
    "    - Something to which the subject has been exposed to\n",
    "- Treatment Group\n",
    "    - A group of subjects exposed to a specific treatment\n",
    "- Control Group\n",
    "    - A group of subjects exposed to no treatment\n",
    "***\n",
    "### Why do we need the control group in A/B Testing?\n",
    "- Without the control group, there is no way of checking whether all things are equal. With the control group we can compare the results and confirm the fact that the improvements in the metrics, if any, are a result of the changes we made with respect to the treatment group.\n",
    "- Control group essentially forms the baseline of the of the study.\n",
    "***\n",
    "$a\\neq b$\n",
    "### Why Just A/B? Why not C,D,....?\n",
    "- There are more statistical tests too. For eg: The Multi Arm Bandit Algorithm.\n",
    "***\n",
    "### Intuition Behind Hypothesis testing:\n",
    "    - In hypothesis testing, there is null hypothesis and alternate hypothesis.\n",
    "    - In null hypothesis we have an assumption that we want to prove wrong.\n",
    "    - In other words, null hypothesis is the assumption that we know to be true all along. For eg, we might consider that there are 365 days in a year. \n",
    ">    number of days in a year $=$ 365\n",
    "\n",
    "    - Our Alternate hypothesis could be that:\n",
    "\n",
    ">    number of days in a year $\\neq$ 365\n",
    "\n",
    "***\n",
    "### What is One-Way and Two-Way Hypothesis?\n",
    "- One-Way Hypothesis is when we say we are considering the alternate hypthesis to be less than 365 days a year. \n",
    "- Two-Way Hypothesis is when we say we are considering the alternate hypothesis to be $\\neq$ 365 days a year.\n",
    "***\n",
    "### What is Resampling?\n",
    "- It means to repeatedly sample valyes from observed data, with a general goal of assessing random variability in a statistic.\n",
    "***\n",
    "### What is Permutation Test?\n",
    "1. Combine the results from the different groups in a single data-set.\n",
    "- Shuffle the combined data, then randomly draw(without replacing) a resample of the same size as group A.\n",
    "- From the remaining data, randomly draw (without replacing) a resample of the same size of group B.\n",
    "- Do the same for groups C,D and so on.\n",
    "- Whatever statistic or estimate was calculated for the original samples, calculate it now for the resamples and record; this constitutes one permutation iteration.\n",
    "- Repeat the previous steps R times to yield a permutation distribution of the test statistic.\n",
    "***\n"
   ]
  },
  {
   "cell_type": "code",
   "execution_count": 20,
   "metadata": {
    "collapsed": true
   },
   "outputs": [],
   "source": [
    "import pandas as pd\n",
    "import seaborn as sns\n",
    "from matplotlib import pyplot as plt\n",
    "%matplotlib inline"
   ]
  },
  {
   "cell_type": "code",
   "execution_count": 21,
   "metadata": {},
   "outputs": [],
   "source": [
    "df = pd.read_csv('../data/web_page_data.csv')\n",
    "page_a = df[df['Page']=='Page A']\n",
    "page_b = df[df['Page']=='Page B']"
   ]
  },
  {
   "cell_type": "code",
   "execution_count": 22,
   "metadata": {},
   "outputs": [
    {
     "data": {
      "text/plain": [
       "-0.35666666666666713"
      ]
     },
     "execution_count": 22,
     "metadata": {},
     "output_type": "execute_result"
    }
   ],
   "source": [
    "page_a.Time.mean() - page_b.Time.mean()"
   ]
  },
  {
   "cell_type": "code",
   "execution_count": 36,
   "metadata": {},
   "outputs": [
    {
     "data": {
      "image/png": "[encoded data removed]",
      "text/plain": [
       "<Figure size 432x288 with 1 Axes>"
      ]
     },
     "metadata": {},
     "output_type": "display_data"
    },
    {
     "data": {
      "image/png": "[encoded data removed]",
      "text/plain": [
       "<Figure size 432x288 with 1 Axes>"
      ]
     },
     "metadata": {},
     "output_type": "display_data"
    }
   ],
   "source": [
    "page_a.plot(kind='box',title='Page A')\n",
    "page_b.plot(kind='box',title=\"Page B\")\n",
    "plt.show()"
   ]
  },
  {
   "cell_type": "markdown",
   "metadata": {},
   "source": [
    "### Statistical Significan and P-Values:\n",
    "- Statistical significance is how statisticians measure whether an experiement yeilds a result more extreme than what chance might product.\n",
    "### What is P-Value and Alpha?\n",
    "- Given a chance model that embodies the null hypothesis, the p-value is the probability of obtaining results as unusual or extreme as the observed results.\n",
    "- Alpha is the probability threshold of 'unusualness' that chance results might surpass, for actual outcomes to be deemed statistically significant.\n"
   ]
  },
  {
   "cell_type": "code",
   "execution_count": null,
   "metadata": {
    "collapsed": true
   },
   "outputs": [],
   "source": []
  }
 ],
 "metadata": {
  "kernelspec": {
   "display_name": "Python (datascience)",
   "language": "python",
   "name": "datascience"
  },
  "language_info": {
   "codemirror_mode": {
    "name": "ipython",
    "version": 3
   },
   "file_extension": ".py",
   "mimetype": "text/x-python",
   "name": "python",
   "nbconvert_exporter": "python",
   "pygments_lexer": "ipython3",
   "version": "3.6.6"
  }
 },
 "nbformat": 4,
 "nbformat_minor": 2
}
