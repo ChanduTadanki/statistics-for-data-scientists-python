{
 "cells": [
  {
   "cell_type": "code",
   "execution_count": 2,
   "metadata": {},
   "outputs": [],
   "source": [
    "import pandas as pd\n",
    "import numpy as np\n",
    "import matplotlib.pyplot as plt\n",
    "%matplotlib inline"
   ]
  },
  {
   "cell_type": "markdown",
   "metadata": {},
   "source": [
    "# Statistical Experiments and Significance Testing\n",
    "\n",
    "##### Amazing Link https://pythonfordatascience.org/chi-square-python/\n",
    "- Formulate Hypothese - Design Experiment - Collect Data - Inference Conclusions\n",
    "\n",
    "## A/B Testing:\n",
    "- Is an experiment with two groups to establish which of the two products(for eg) are superior.\n",
    "- Treatment\n",
    "    - Something to which the subject has been exposed to\n",
    "- Treatment Group\n",
    "    - A group of subjects exposed to a specific treatment\n",
    "- Control Group\n",
    "    - A group of subjects exposed to no treatment\n",
    "- Intuition Behind Hypothesis testing:\n",
    "    - In hypothesis testing, there is null hypothesis and alternate hypothesis.\n",
    "    - In null hypothesis we have an assumption that we want to prove wrong.\n",
    "    - In alternate hypothese we have an assumption that we want to prove right\n",
    "    - For example, consider A/B Testing a new website design. While A/B Testing this new design, the null hypothesis is that the Older design is better.\n",
    "    - The alternate hypothesis will be that the new design is better than the old design. \n",
    "    - There may be many parameters from which we may descern this, but the idea was to give you a intuition behind what null and alternate hypothesis might be."
   ]
  },
  {
   "cell_type": "code",
   "execution_count": null,
   "metadata": {
    "collapsed": true
   },
   "outputs": [],
   "source": []
  }
 ],
 "metadata": {
  "kernelspec": {
   "display_name": "Python (datascience)",
   "language": "python",
   "name": "datascience"
  },
  "language_info": {
   "codemirror_mode": {
    "name": "ipython",
    "version": 3
   },
   "file_extension": ".py",
   "mimetype": "text/x-python",
   "name": "python",
   "nbconvert_exporter": "python",
   "pygments_lexer": "ipython3",
   "version": "3.6.6"
  }
 },
 "nbformat": 4,
 "nbformat_minor": 2
}
